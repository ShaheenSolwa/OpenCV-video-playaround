{
 "cells": [
  {
   "cell_type": "code",
   "execution_count": 1,
   "metadata": {},
   "outputs": [
    {
     "name": "stdout",
     "output_type": "stream",
     "text": [
      "Enter number of people in the photo1\n"
     ]
    }
   ],
   "source": [
    "import cv2,time\n",
    "\n",
    "numppl = input(\"Enter number of people in the photo\")\n",
    "\n",
    "vid = cv2.VideoCapture(0)\n",
    "\n",
    "smile = cv2.CascadeClassifier(r\"C:\\Users\\shahe\\Anaconda3\\Library\\etc\\haarcascades\\haarcascade_smile.xml\")\n",
    "i=1\n",
    "while True:\n",
    "    ret, frame = vid.read()\n",
    "    gray = cv2.cvtColor(frame, cv2.COLOR_BGR2GRAY)\n",
    "    smiles = smile.detectMultiScale(gray,scaleFactor=1.7,minNeighbors=15)\n",
    "    #frame = cv2.putText(frame, \"SMILE TO TAKE A SELFIE\", 50, cv2.FONT_HERSHEY_SIMPLEX, 1, (255, 0, 0), 2)\n",
    "    #for (x,y,w,h) in smiles:\n",
    "     #   cv2.rectangle(frame, (x,y), (x+w, y+h), (0,255,0), 2)\n",
    "    if len(smiles) >= int(numppl):\n",
    "            cv2.imwrite(\"selfie\" + str(i) + \".jpg\",frame)\n",
    "            print(\"DONE!\")\n",
    "            i = i + 1\n",
    "            time.sleep(1)\n",
    "            #frame = cv2.putText(frame, \"Picture Taken!\", 50, 1, (255, 0, 0), 2)\n",
    "    cv2.imshow('Video', frame)\n",
    "    if cv2.waitKey(1) & 0xFF == ord('q'):\n",
    "        break\n",
    "        \n",
    "vid.release()\n",
    "cv2.destroyAllWindows()"
   ]
  },
  {
   "cell_type": "code",
   "execution_count": null,
   "metadata": {},
   "outputs": [],
   "source": []
  },
  {
   "cell_type": "code",
   "execution_count": null,
   "metadata": {},
   "outputs": [],
   "source": []
  }
 ],
 "metadata": {
  "kernelspec": {
   "display_name": "Python 3",
   "language": "python",
   "name": "python3"
  },
  "language_info": {
   "codemirror_mode": {
    "name": "ipython",
    "version": 3
   },
   "file_extension": ".py",
   "mimetype": "text/x-python",
   "name": "python",
   "nbconvert_exporter": "python",
   "pygments_lexer": "ipython3",
   "version": "3.7.1"
  }
 },
 "nbformat": 4,
 "nbformat_minor": 2
}
